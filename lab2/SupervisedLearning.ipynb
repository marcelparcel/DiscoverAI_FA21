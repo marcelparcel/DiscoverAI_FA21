{
    "metadata": {
        "kernelspec": {
            "name": "python3",
            "display_name": "Python 3 (ipykernel)",
            "language": "python"
        }
    },
    "nbformat": 4,
    "nbformat_minor": 2,
    "cells": [
        {
            "attachments": {},
            "cell_type": "markdown",
            "metadata": {},
            "source": [
                "This code is an introduction to supervised learning solving a classification problem using **decision trees**.\n",
                "It follows [this tutorial](https://youtu.be/7eh4d6sabA0). "
            ]
        },
        {
            "attachments": {},
            "cell_type": "markdown",
            "metadata": {},
            "source": [
                "# **Classification Problem**\n",
                "We will follow these steps of solving a machine learning problem.\n",
                "\n",
                "\n",
                "1. Import the Data\n",
                "2. Clean the Data\n",
                "3. split the Data into Training/ Test steps\n",
                "4. Create a Model\n",
                "5. Train the Model\n",
                "6. Make Predictions\n",
                "7. Evaluate and improve\n",
                ""
            ]
        },
        {
            "attachments": {},
            "cell_type": "markdown",
            "metadata": {},
            "source": [
                "# Problem description\n",
                "Enter in the text cell below what you will be predicting in this classification problem (y) and which columns will be used in the prediction (X)"
            ]
        },
        {
            "attachments": {},
            "cell_type": "markdown",
            "metadata": {},
            "source": [
                ""
            ]
        },
        {
            "cell_type": "code",
            "execution_count": 1,
            "metadata": {},
            "outputs": [],
            "source": [
                "import pandas as pd\n",
                "from sklearn.tree import DecisionTreeClassifier\n",
                "from sklearn.model_selection import train_test_split\n",
                "from sklearn.metrics import accuracy_score\n",
                "import joblib\n",
                "from sklearn import tree"
            ]
        },
        {
            "attachments": {},
            "cell_type": "markdown",
            "metadata": {},
            "source": [
                "1. Import the Data."
            ]
        },
        {
            "cell_type": "code",
            "execution_count": 3,
            "metadata": {},
            "outputs": [],
            "source": [
                "df = pd.read_csv('cleanedfile.csv')"
            ]
        },
        {
            "attachments": {},
            "cell_type": "markdown",
            "metadata": {},
            "source": [
                "2. Display columns and describe the data set"
            ]
        },
        {
            "cell_type": "code",
            "execution_count": 4,
            "metadata": {},
            "outputs": [
                {
                    "name": "stdout",
                    "output_type": "stream",
                    "text": "\u003cclass 'pandas.core.frame.DataFrame'\u003e\nRangeIndex: 20000 entries, 0 to 19999\nData columns (total 17 columns):\n #   Column  Non-Null Count  Dtype \n---  ------  --------------  ----- \n 0   letter  20000 non-null  object\n 1   xbox    20000 non-null  int64 \n 2   ybox    20000 non-null  int64 \n 3   width   20000 non-null  int64 \n 4   height  20000 non-null  int64 \n 5   onpix   20000 non-null  int64 \n 6   xbar    20000 non-null  int64 \n 7   ybar    20000 non-null  int64 \n 8   x2bar   20000 non-null  int64 \n 9   y2bar   20000 non-null  int64 \n 10  xybar   20000 non-null  int64 \n 11  x2ybar  20000 non-null  int64 \n 12  xy2bar  20000 non-null  int64 \n 13  xedge   20000 non-null  int64 \n 14  xedgey  20000 non-null  int64 \n 15  yedge   20000 non-null  int64 \n 16  yedgex  20000 non-null  int64 \ndtypes: int64(16), object(1)\nmemory usage: 2.6+ MB\n"
                }
            ],
            "source": [
                "df.info()"
            ]
        },
        {
            "cell_type": "code",
            "execution_count": 5,
            "metadata": {},
            "outputs": [
                {
                    "data": {
                        "text/html": "\u003cdiv\u003e\n\u003cstyle scoped\u003e\n    .dataframe tbody tr th:only-of-type {\n        vertical-align: middle;\n    }\n\n    .dataframe tbody tr th {\n        vertical-align: top;\n    }\n\n    .dataframe thead th {\n        text-align: right;\n    }\n\u003c/style\u003e\n\u003ctable border=\"1\" class=\"dataframe\"\u003e\n  \u003cthead\u003e\n    \u003ctr style=\"text-align: right;\"\u003e\n      \u003cth\u003e\u003c/th\u003e\n      \u003cth\u003exbox\u003c/th\u003e\n      \u003cth\u003eybox\u003c/th\u003e\n      \u003cth\u003ewidth\u003c/th\u003e\n      \u003cth\u003eheight\u003c/th\u003e\n      \u003cth\u003eonpix\u003c/th\u003e\n      \u003cth\u003exbar\u003c/th\u003e\n      \u003cth\u003eybar\u003c/th\u003e\n      \u003cth\u003ex2bar\u003c/th\u003e\n      \u003cth\u003ey2bar\u003c/th\u003e\n      \u003cth\u003exybar\u003c/th\u003e\n      \u003cth\u003ex2ybar\u003c/th\u003e\n      \u003cth\u003exy2bar\u003c/th\u003e\n      \u003cth\u003exedge\u003c/th\u003e\n      \u003cth\u003exedgey\u003c/th\u003e\n      \u003cth\u003eyedge\u003c/th\u003e\n      \u003cth\u003eyedgex\u003c/th\u003e\n    \u003c/tr\u003e\n  \u003c/thead\u003e\n  \u003ctbody\u003e\n    \u003ctr\u003e\n      \u003cth\u003ecount\u003c/th\u003e\n      \u003ctd\u003e20000.000000\u003c/td\u003e\n      \u003ctd\u003e20000.000000\u003c/td\u003e\n      \u003ctd\u003e20000.000000\u003c/td\u003e\n      \u003ctd\u003e20000.00000\u003c/td\u003e\n      \u003ctd\u003e20000.000000\u003c/td\u003e\n      \u003ctd\u003e20000.000000\u003c/td\u003e\n      \u003ctd\u003e20000.000000\u003c/td\u003e\n      \u003ctd\u003e20000.000000\u003c/td\u003e\n      \u003ctd\u003e20000.000000\u003c/td\u003e\n      \u003ctd\u003e20000.000000\u003c/td\u003e\n      \u003ctd\u003e20000.00000\u003c/td\u003e\n      \u003ctd\u003e20000.000000\u003c/td\u003e\n      \u003ctd\u003e20000.000000\u003c/td\u003e\n      \u003ctd\u003e20000.000000\u003c/td\u003e\n      \u003ctd\u003e20000.000000\u003c/td\u003e\n      \u003ctd\u003e20000.00000\u003c/td\u003e\n    \u003c/tr\u003e\n    \u003ctr\u003e\n      \u003cth\u003emean\u003c/th\u003e\n      \u003ctd\u003e4.023550\u003c/td\u003e\n      \u003ctd\u003e7.035500\u003c/td\u003e\n      \u003ctd\u003e5.121850\u003c/td\u003e\n      \u003ctd\u003e5.37245\u003c/td\u003e\n      \u003ctd\u003e3.505850\u003c/td\u003e\n      \u003ctd\u003e6.897600\u003c/td\u003e\n      \u003ctd\u003e7.500450\u003c/td\u003e\n      \u003ctd\u003e4.628600\u003c/td\u003e\n      \u003ctd\u003e5.178650\u003c/td\u003e\n      \u003ctd\u003e8.282050\u003c/td\u003e\n      \u003ctd\u003e6.45400\u003c/td\u003e\n      \u003ctd\u003e7.929000\u003c/td\u003e\n      \u003ctd\u003e3.046100\u003c/td\u003e\n      \u003ctd\u003e8.338850\u003c/td\u003e\n      \u003ctd\u003e3.691750\u003c/td\u003e\n      \u003ctd\u003e7.80120\u003c/td\u003e\n    \u003c/tr\u003e\n    \u003ctr\u003e\n      \u003cth\u003estd\u003c/th\u003e\n      \u003ctd\u003e1.913212\u003c/td\u003e\n      \u003ctd\u003e3.304555\u003c/td\u003e\n      \u003ctd\u003e2.014573\u003c/td\u003e\n      \u003ctd\u003e2.26139\u003c/td\u003e\n      \u003ctd\u003e2.190458\u003c/td\u003e\n      \u003ctd\u003e2.026035\u003c/td\u003e\n      \u003ctd\u003e2.325354\u003c/td\u003e\n      \u003ctd\u003e2.699968\u003c/td\u003e\n      \u003ctd\u003e2.380823\u003c/td\u003e\n      \u003ctd\u003e2.488475\u003c/td\u003e\n      \u003ctd\u003e2.63107\u003c/td\u003e\n      \u003ctd\u003e2.080619\u003c/td\u003e\n      \u003ctd\u003e2.332541\u003c/td\u003e\n      \u003ctd\u003e1.546722\u003c/td\u003e\n      \u003ctd\u003e2.567073\u003c/td\u003e\n      \u003ctd\u003e1.61747\u003c/td\u003e\n    \u003c/tr\u003e\n    \u003ctr\u003e\n      \u003cth\u003emin\u003c/th\u003e\n      \u003ctd\u003e0.000000\u003c/td\u003e\n      \u003ctd\u003e0.000000\u003c/td\u003e\n      \u003ctd\u003e0.000000\u003c/td\u003e\n      \u003ctd\u003e0.00000\u003c/td\u003e\n      \u003ctd\u003e0.000000\u003c/td\u003e\n      \u003ctd\u003e0.000000\u003c/td\u003e\n      \u003ctd\u003e0.000000\u003c/td\u003e\n      \u003ctd\u003e0.000000\u003c/td\u003e\n      \u003ctd\u003e0.000000\u003c/td\u003e\n      \u003ctd\u003e0.000000\u003c/td\u003e\n      \u003ctd\u003e0.00000\u003c/td\u003e\n      \u003ctd\u003e0.000000\u003c/td\u003e\n      \u003ctd\u003e0.000000\u003c/td\u003e\n      \u003ctd\u003e0.000000\u003c/td\u003e\n      \u003ctd\u003e0.000000\u003c/td\u003e\n      \u003ctd\u003e0.00000\u003c/td\u003e\n    \u003c/tr\u003e\n    \u003ctr\u003e\n      \u003cth\u003e25%\u003c/th\u003e\n      \u003ctd\u003e3.000000\u003c/td\u003e\n      \u003ctd\u003e5.000000\u003c/td\u003e\n      \u003ctd\u003e4.000000\u003c/td\u003e\n      \u003ctd\u003e4.00000\u003c/td\u003e\n      \u003ctd\u003e2.000000\u003c/td\u003e\n      \u003ctd\u003e6.000000\u003c/td\u003e\n      \u003ctd\u003e6.000000\u003c/td\u003e\n      \u003ctd\u003e3.000000\u003c/td\u003e\n      \u003ctd\u003e4.000000\u003c/td\u003e\n      \u003ctd\u003e7.000000\u003c/td\u003e\n      \u003ctd\u003e5.00000\u003c/td\u003e\n      \u003ctd\u003e7.000000\u003c/td\u003e\n      \u003ctd\u003e1.000000\u003c/td\u003e\n      \u003ctd\u003e8.000000\u003c/td\u003e\n      \u003ctd\u003e2.000000\u003c/td\u003e\n      \u003ctd\u003e7.00000\u003c/td\u003e\n    \u003c/tr\u003e\n    \u003ctr\u003e\n      \u003cth\u003e50%\u003c/th\u003e\n      \u003ctd\u003e4.000000\u003c/td\u003e\n      \u003ctd\u003e7.000000\u003c/td\u003e\n      \u003ctd\u003e5.000000\u003c/td\u003e\n      \u003ctd\u003e6.00000\u003c/td\u003e\n      \u003ctd\u003e3.000000\u003c/td\u003e\n      \u003ctd\u003e7.000000\u003c/td\u003e\n      \u003ctd\u003e7.000000\u003c/td\u003e\n      \u003ctd\u003e4.000000\u003c/td\u003e\n      \u003ctd\u003e5.000000\u003c/td\u003e\n      \u003ctd\u003e8.000000\u003c/td\u003e\n      \u003ctd\u003e6.00000\u003c/td\u003e\n      \u003ctd\u003e8.000000\u003c/td\u003e\n      \u003ctd\u003e3.000000\u003c/td\u003e\n      \u003ctd\u003e8.000000\u003c/td\u003e\n      \u003ctd\u003e3.000000\u003c/td\u003e\n      \u003ctd\u003e8.00000\u003c/td\u003e\n    \u003c/tr\u003e\n    \u003ctr\u003e\n      \u003cth\u003e75%\u003c/th\u003e\n      \u003ctd\u003e5.000000\u003c/td\u003e\n      \u003ctd\u003e9.000000\u003c/td\u003e\n      \u003ctd\u003e6.000000\u003c/td\u003e\n      \u003ctd\u003e7.00000\u003c/td\u003e\n      \u003ctd\u003e5.000000\u003c/td\u003e\n      \u003ctd\u003e8.000000\u003c/td\u003e\n      \u003ctd\u003e9.000000\u003c/td\u003e\n      \u003ctd\u003e6.000000\u003c/td\u003e\n      \u003ctd\u003e7.000000\u003c/td\u003e\n      \u003ctd\u003e10.000000\u003c/td\u003e\n      \u003ctd\u003e8.00000\u003c/td\u003e\n      \u003ctd\u003e9.000000\u003c/td\u003e\n      \u003ctd\u003e4.000000\u003c/td\u003e\n      \u003ctd\u003e9.000000\u003c/td\u003e\n      \u003ctd\u003e5.000000\u003c/td\u003e\n      \u003ctd\u003e9.00000\u003c/td\u003e\n    \u003c/tr\u003e\n    \u003ctr\u003e\n      \u003cth\u003emax\u003c/th\u003e\n      \u003ctd\u003e15.000000\u003c/td\u003e\n      \u003ctd\u003e15.000000\u003c/td\u003e\n      \u003ctd\u003e15.000000\u003c/td\u003e\n      \u003ctd\u003e15.00000\u003c/td\u003e\n      \u003ctd\u003e15.000000\u003c/td\u003e\n      \u003ctd\u003e15.000000\u003c/td\u003e\n      \u003ctd\u003e15.000000\u003c/td\u003e\n      \u003ctd\u003e15.000000\u003c/td\u003e\n      \u003ctd\u003e15.000000\u003c/td\u003e\n      \u003ctd\u003e15.000000\u003c/td\u003e\n      \u003ctd\u003e15.00000\u003c/td\u003e\n      \u003ctd\u003e15.000000\u003c/td\u003e\n      \u003ctd\u003e15.000000\u003c/td\u003e\n      \u003ctd\u003e15.000000\u003c/td\u003e\n      \u003ctd\u003e15.000000\u003c/td\u003e\n      \u003ctd\u003e15.00000\u003c/td\u003e\n    \u003c/tr\u003e\n  \u003c/tbody\u003e\n\u003c/table\u003e\n\u003c/div\u003e",
                        "text/plain": "              xbox          ybox         width        height        onpix   \\\ncount  20000.000000  20000.000000  20000.000000  20000.00000  20000.000000   \nmean       4.023550      7.035500      5.121850      5.37245      3.505850   \nstd        1.913212      3.304555      2.014573      2.26139      2.190458   \nmin        0.000000      0.000000      0.000000      0.00000      0.000000   \n25%        3.000000      5.000000      4.000000      4.00000      2.000000   \n50%        4.000000      7.000000      5.000000      6.00000      3.000000   \n75%        5.000000      9.000000      6.000000      7.00000      5.000000   \nmax       15.000000     15.000000     15.000000     15.00000     15.000000   \n\n              xbar          ybar          x2bar        y2bar         xybar   \\\ncount  20000.000000  20000.000000  20000.000000  20000.000000  20000.000000   \nmean       6.897600      7.500450      4.628600      5.178650      8.282050   \nstd        2.026035      2.325354      2.699968      2.380823      2.488475   \nmin        0.000000      0.000000      0.000000      0.000000      0.000000   \n25%        6.000000      6.000000      3.000000      4.000000      7.000000   \n50%        7.000000      7.000000      4.000000      5.000000      8.000000   \n75%        8.000000      9.000000      6.000000      7.000000     10.000000   \nmax       15.000000     15.000000     15.000000     15.000000     15.000000   \n\n            x2ybar        xy2bar        xedge         xedgey        yedge   \\\ncount  20000.00000  20000.000000  20000.000000  20000.000000  20000.000000   \nmean       6.45400      7.929000      3.046100      8.338850      3.691750   \nstd        2.63107      2.080619      2.332541      1.546722      2.567073   \nmin        0.00000      0.000000      0.000000      0.000000      0.000000   \n25%        5.00000      7.000000      1.000000      8.000000      2.000000   \n50%        6.00000      8.000000      3.000000      8.000000      3.000000   \n75%        8.00000      9.000000      4.000000      9.000000      5.000000   \nmax       15.00000     15.000000     15.000000     15.000000     15.000000   \n\n            yedgex  \ncount  20000.00000  \nmean       7.80120  \nstd        1.61747  \nmin        0.00000  \n25%        7.00000  \n50%        8.00000  \n75%        9.00000  \nmax       15.00000  "
                    },
                    "execution_count": 5,
                    "metadata": {},
                    "output_type": "execute_result"
                }
            ],
            "source": [
                "df.describe()"
            ]
        },
        {
            "attachments": {},
            "cell_type": "markdown",
            "metadata": {},
            "source": [
                "3. Prepare Data"
            ]
        },
        {
            "cell_type": "code",
            "execution_count": 14,
            "metadata": {},
            "outputs": [
                {
                    "data": {
                        "text/html": "\u003cdiv\u003e\n\u003cstyle scoped\u003e\n    .dataframe tbody tr th:only-of-type {\n        vertical-align: middle;\n    }\n\n    .dataframe tbody tr th {\n        vertical-align: top;\n    }\n\n    .dataframe thead th {\n        text-align: right;\n    }\n\u003c/style\u003e\n\u003ctable border=\"1\" class=\"dataframe\"\u003e\n  \u003cthead\u003e\n    \u003ctr style=\"text-align: right;\"\u003e\n      \u003cth\u003e\u003c/th\u003e\n      \u003cth\u003exbox\u003c/th\u003e\n      \u003cth\u003eybox\u003c/th\u003e\n      \u003cth\u003ewidth\u003c/th\u003e\n      \u003cth\u003eheight\u003c/th\u003e\n      \u003cth\u003eonpix\u003c/th\u003e\n      \u003cth\u003exbar\u003c/th\u003e\n      \u003cth\u003eybar\u003c/th\u003e\n      \u003cth\u003ex2bar\u003c/th\u003e\n      \u003cth\u003ey2bar\u003c/th\u003e\n      \u003cth\u003exybar\u003c/th\u003e\n      \u003cth\u003ex2ybar\u003c/th\u003e\n      \u003cth\u003exy2bar\u003c/th\u003e\n      \u003cth\u003exedge\u003c/th\u003e\n      \u003cth\u003exedgey\u003c/th\u003e\n      \u003cth\u003eyedge\u003c/th\u003e\n      \u003cth\u003eyedgex\u003c/th\u003e\n    \u003c/tr\u003e\n  \u003c/thead\u003e\n  \u003ctbody\u003e\n    \u003ctr\u003e\n      \u003cth\u003e0\u003c/th\u003e\n      \u003ctd\u003e2\u003c/td\u003e\n      \u003ctd\u003e8\u003c/td\u003e\n      \u003ctd\u003e3\u003c/td\u003e\n      \u003ctd\u003e5\u003c/td\u003e\n      \u003ctd\u003e1\u003c/td\u003e\n      \u003ctd\u003e8\u003c/td\u003e\n      \u003ctd\u003e13\u003c/td\u003e\n      \u003ctd\u003e0\u003c/td\u003e\n      \u003ctd\u003e6\u003c/td\u003e\n      \u003ctd\u003e6\u003c/td\u003e\n      \u003ctd\u003e10\u003c/td\u003e\n      \u003ctd\u003e8\u003c/td\u003e\n      \u003ctd\u003e0\u003c/td\u003e\n      \u003ctd\u003e8\u003c/td\u003e\n      \u003ctd\u003e0\u003c/td\u003e\n      \u003ctd\u003e8\u003c/td\u003e\n    \u003c/tr\u003e\n    \u003ctr\u003e\n      \u003cth\u003e1\u003c/th\u003e\n      \u003ctd\u003e5\u003c/td\u003e\n      \u003ctd\u003e12\u003c/td\u003e\n      \u003ctd\u003e3\u003c/td\u003e\n      \u003ctd\u003e7\u003c/td\u003e\n      \u003ctd\u003e2\u003c/td\u003e\n      \u003ctd\u003e10\u003c/td\u003e\n      \u003ctd\u003e5\u003c/td\u003e\n      \u003ctd\u003e5\u003c/td\u003e\n      \u003ctd\u003e4\u003c/td\u003e\n      \u003ctd\u003e13\u003c/td\u003e\n      \u003ctd\u003e3\u003c/td\u003e\n      \u003ctd\u003e9\u003c/td\u003e\n      \u003ctd\u003e2\u003c/td\u003e\n      \u003ctd\u003e8\u003c/td\u003e\n      \u003ctd\u003e4\u003c/td\u003e\n      \u003ctd\u003e10\u003c/td\u003e\n    \u003c/tr\u003e\n    \u003ctr\u003e\n      \u003cth\u003e2\u003c/th\u003e\n      \u003ctd\u003e4\u003c/td\u003e\n      \u003ctd\u003e11\u003c/td\u003e\n      \u003ctd\u003e6\u003c/td\u003e\n      \u003ctd\u003e8\u003c/td\u003e\n      \u003ctd\u003e6\u003c/td\u003e\n      \u003ctd\u003e10\u003c/td\u003e\n      \u003ctd\u003e6\u003c/td\u003e\n      \u003ctd\u003e2\u003c/td\u003e\n      \u003ctd\u003e6\u003c/td\u003e\n      \u003ctd\u003e10\u003c/td\u003e\n      \u003ctd\u003e3\u003c/td\u003e\n      \u003ctd\u003e7\u003c/td\u003e\n      \u003ctd\u003e3\u003c/td\u003e\n      \u003ctd\u003e7\u003c/td\u003e\n      \u003ctd\u003e3\u003c/td\u003e\n      \u003ctd\u003e9\u003c/td\u003e\n    \u003c/tr\u003e\n    \u003ctr\u003e\n      \u003cth\u003e3\u003c/th\u003e\n      \u003ctd\u003e7\u003c/td\u003e\n      \u003ctd\u003e11\u003c/td\u003e\n      \u003ctd\u003e6\u003c/td\u003e\n      \u003ctd\u003e6\u003c/td\u003e\n      \u003ctd\u003e3\u003c/td\u003e\n      \u003ctd\u003e5\u003c/td\u003e\n      \u003ctd\u003e9\u003c/td\u003e\n      \u003ctd\u003e4\u003c/td\u003e\n      \u003ctd\u003e6\u003c/td\u003e\n      \u003ctd\u003e4\u003c/td\u003e\n      \u003ctd\u003e4\u003c/td\u003e\n      \u003ctd\u003e10\u003c/td\u003e\n      \u003ctd\u003e6\u003c/td\u003e\n      \u003ctd\u003e10\u003c/td\u003e\n      \u003ctd\u003e2\u003c/td\u003e\n      \u003ctd\u003e8\u003c/td\u003e\n    \u003c/tr\u003e\n    \u003ctr\u003e\n      \u003cth\u003e4\u003c/th\u003e\n      \u003ctd\u003e2\u003c/td\u003e\n      \u003ctd\u003e1\u003c/td\u003e\n      \u003ctd\u003e3\u003c/td\u003e\n      \u003ctd\u003e1\u003c/td\u003e\n      \u003ctd\u003e1\u003c/td\u003e\n      \u003ctd\u003e8\u003c/td\u003e\n      \u003ctd\u003e6\u003c/td\u003e\n      \u003ctd\u003e6\u003c/td\u003e\n      \u003ctd\u003e6\u003c/td\u003e\n      \u003ctd\u003e6\u003c/td\u003e\n      \u003ctd\u003e5\u003c/td\u003e\n      \u003ctd\u003e9\u003c/td\u003e\n      \u003ctd\u003e1\u003c/td\u003e\n      \u003ctd\u003e7\u003c/td\u003e\n      \u003ctd\u003e5\u003c/td\u003e\n      \u003ctd\u003e10\u003c/td\u003e\n    \u003c/tr\u003e\n    \u003ctr\u003e\n      \u003cth\u003e...\u003c/th\u003e\n      \u003ctd\u003e...\u003c/td\u003e\n      \u003ctd\u003e...\u003c/td\u003e\n      \u003ctd\u003e...\u003c/td\u003e\n      \u003ctd\u003e...\u003c/td\u003e\n      \u003ctd\u003e...\u003c/td\u003e\n      \u003ctd\u003e...\u003c/td\u003e\n      \u003ctd\u003e...\u003c/td\u003e\n      \u003ctd\u003e...\u003c/td\u003e\n      \u003ctd\u003e...\u003c/td\u003e\n      \u003ctd\u003e...\u003c/td\u003e\n      \u003ctd\u003e...\u003c/td\u003e\n      \u003ctd\u003e...\u003c/td\u003e\n      \u003ctd\u003e...\u003c/td\u003e\n      \u003ctd\u003e...\u003c/td\u003e\n      \u003ctd\u003e...\u003c/td\u003e\n      \u003ctd\u003e...\u003c/td\u003e\n    \u003c/tr\u003e\n    \u003ctr\u003e\n      \u003cth\u003e19995\u003c/th\u003e\n      \u003ctd\u003e2\u003c/td\u003e\n      \u003ctd\u003e2\u003c/td\u003e\n      \u003ctd\u003e3\u003c/td\u003e\n      \u003ctd\u003e3\u003c/td\u003e\n      \u003ctd\u003e2\u003c/td\u003e\n      \u003ctd\u003e7\u003c/td\u003e\n      \u003ctd\u003e7\u003c/td\u003e\n      \u003ctd\u003e7\u003c/td\u003e\n      \u003ctd\u003e6\u003c/td\u003e\n      \u003ctd\u003e6\u003c/td\u003e\n      \u003ctd\u003e6\u003c/td\u003e\n      \u003ctd\u003e4\u003c/td\u003e\n      \u003ctd\u003e2\u003c/td\u003e\n      \u003ctd\u003e8\u003c/td\u003e\n      \u003ctd\u003e3\u003c/td\u003e\n      \u003ctd\u003e7\u003c/td\u003e\n    \u003c/tr\u003e\n    \u003ctr\u003e\n      \u003cth\u003e19996\u003c/th\u003e\n      \u003ctd\u003e7\u003c/td\u003e\n      \u003ctd\u003e10\u003c/td\u003e\n      \u003ctd\u003e8\u003c/td\u003e\n      \u003ctd\u003e8\u003c/td\u003e\n      \u003ctd\u003e4\u003c/td\u003e\n      \u003ctd\u003e4\u003c/td\u003e\n      \u003ctd\u003e8\u003c/td\u003e\n      \u003ctd\u003e6\u003c/td\u003e\n      \u003ctd\u003e9\u003c/td\u003e\n      \u003ctd\u003e12\u003c/td\u003e\n      \u003ctd\u003e9\u003c/td\u003e\n      \u003ctd\u003e13\u003c/td\u003e\n      \u003ctd\u003e2\u003c/td\u003e\n      \u003ctd\u003e9\u003c/td\u003e\n      \u003ctd\u003e3\u003c/td\u003e\n      \u003ctd\u003e7\u003c/td\u003e\n    \u003c/tr\u003e\n    \u003ctr\u003e\n      \u003cth\u003e19997\u003c/th\u003e\n      \u003ctd\u003e6\u003c/td\u003e\n      \u003ctd\u003e9\u003c/td\u003e\n      \u003ctd\u003e6\u003c/td\u003e\n      \u003ctd\u003e7\u003c/td\u003e\n      \u003ctd\u003e5\u003c/td\u003e\n      \u003ctd\u003e6\u003c/td\u003e\n      \u003ctd\u003e11\u003c/td\u003e\n      \u003ctd\u003e3\u003c/td\u003e\n      \u003ctd\u003e7\u003c/td\u003e\n      \u003ctd\u003e11\u003c/td\u003e\n      \u003ctd\u003e9\u003c/td\u003e\n      \u003ctd\u003e5\u003c/td\u003e\n      \u003ctd\u003e2\u003c/td\u003e\n      \u003ctd\u003e12\u003c/td\u003e\n      \u003ctd\u003e2\u003c/td\u003e\n      \u003ctd\u003e4\u003c/td\u003e\n    \u003c/tr\u003e\n    \u003ctr\u003e\n      \u003cth\u003e19998\u003c/th\u003e\n      \u003ctd\u003e2\u003c/td\u003e\n      \u003ctd\u003e3\u003c/td\u003e\n      \u003ctd\u003e4\u003c/td\u003e\n      \u003ctd\u003e2\u003c/td\u003e\n      \u003ctd\u003e1\u003c/td\u003e\n      \u003ctd\u003e8\u003c/td\u003e\n      \u003ctd\u003e7\u003c/td\u003e\n      \u003ctd\u003e2\u003c/td\u003e\n      \u003ctd\u003e6\u003c/td\u003e\n      \u003ctd\u003e10\u003c/td\u003e\n      \u003ctd\u003e6\u003c/td\u003e\n      \u003ctd\u003e8\u003c/td\u003e\n      \u003ctd\u003e1\u003c/td\u003e\n      \u003ctd\u003e9\u003c/td\u003e\n      \u003ctd\u003e5\u003c/td\u003e\n      \u003ctd\u003e8\u003c/td\u003e\n    \u003c/tr\u003e\n    \u003ctr\u003e\n      \u003cth\u003e19999\u003c/th\u003e\n      \u003ctd\u003e4\u003c/td\u003e\n      \u003ctd\u003e9\u003c/td\u003e\n      \u003ctd\u003e6\u003c/td\u003e\n      \u003ctd\u003e6\u003c/td\u003e\n      \u003ctd\u003e2\u003c/td\u003e\n      \u003ctd\u003e9\u003c/td\u003e\n      \u003ctd\u003e5\u003c/td\u003e\n      \u003ctd\u003e3\u003c/td\u003e\n      \u003ctd\u003e1\u003c/td\u003e\n      \u003ctd\u003e8\u003c/td\u003e\n      \u003ctd\u003e1\u003c/td\u003e\n      \u003ctd\u003e8\u003c/td\u003e\n      \u003ctd\u003e2\u003c/td\u003e\n      \u003ctd\u003e7\u003c/td\u003e\n      \u003ctd\u003e2\u003c/td\u003e\n      \u003ctd\u003e8\u003c/td\u003e\n    \u003c/tr\u003e\n  \u003c/tbody\u003e\n\u003c/table\u003e\n\u003cp\u003e20000 rows × 16 columns\u003c/p\u003e\n\u003c/div\u003e",
                        "text/plain": "       xbox   ybox   width   height  onpix   xbar   ybar   x2bar  y2bar   \\\n0          2      8       3       5       1      8     13      0       6   \n1          5     12       3       7       2     10      5      5       4   \n2          4     11       6       8       6     10      6      2       6   \n3          7     11       6       6       3      5      9      4       6   \n4          2      1       3       1       1      8      6      6       6   \n...      ...    ...     ...     ...     ...    ...    ...    ...     ...   \n19995      2      2       3       3       2      7      7      7       6   \n19996      7     10       8       8       4      4      8      6       9   \n19997      6      9       6       7       5      6     11      3       7   \n19998      2      3       4       2       1      8      7      2       6   \n19999      4      9       6       6       2      9      5      3       1   \n\n       xybar   x2ybar  xy2bar  xedge   xedgey  yedge   yedgex  \n0           6      10       8       0       8       0       8  \n1          13       3       9       2       8       4      10  \n2          10       3       7       3       7       3       9  \n3           4       4      10       6      10       2       8  \n4           6       5       9       1       7       5      10  \n...       ...     ...     ...     ...     ...     ...     ...  \n19995       6       6       4       2       8       3       7  \n19996      12       9      13       2       9       3       7  \n19997      11       9       5       2      12       2       4  \n19998      10       6       8       1       9       5       8  \n19999       8       1       8       2       7       2       8  \n\n[20000 rows x 16 columns]"
                    },
                    "execution_count": 14,
                    "metadata": {},
                    "output_type": "execute_result"
                }
            ],
            "source": [
                "# Run this section to inspect X\n",
                "X = df.drop(columns = ['letter'])\n",
                "X"
            ]
        },
        {
            "cell_type": "code",
            "execution_count": 15,
            "metadata": {},
            "outputs": [
                {
                    "data": {
                        "text/plain": "0        T\n1        I\n2        D\n3        N\n4        G\n        ..\n19995    D\n19996    C\n19997    T\n19998    S\n19999    A\nName: letter, Length: 20000, dtype: object"
                    },
                    "execution_count": 15,
                    "metadata": {},
                    "output_type": "execute_result"
                }
            ],
            "source": [
                "# Uncomment this section to inpect y\n",
                "y = df['letter']\n",
                "y"
            ]
        },
        {
            "attachments": {},
            "cell_type": "markdown",
            "metadata": {},
            "source": [
                "4. Calculate accuracy"
            ]
        },
        {
            "cell_type": "code",
            "execution_count": 16,
            "metadata": {},
            "outputs": [
                {
                    "data": {
                        "text/plain": "0.87625"
                    },
                    "execution_count": 16,
                    "metadata": {},
                    "output_type": "execute_result"
                }
            ],
            "source": [
                "# Train 80% of the data set and use the rest to test\n",
                "X_train, X_test, y_train, y_test = train_test_split(\n",
                "                                    X, y, test_size=0.2)\n",
                "\n",
                "model = DecisionTreeClassifier()\n",
                "model.fit(X_train, y_train)\n",
                "predictions = model.predict(X_test)\n",
                "\n",
                "# Compute model accuracy\n",
                "score = accuracy_score(y_test, predictions)\n",
                "score"
            ]
        },
        {
            "attachments": {},
            "cell_type": "markdown",
            "metadata": {},
            "source": [
                "5. Persisting Models"
            ]
        },
        {
            "cell_type": "code",
            "execution_count": 17,
            "metadata": {},
            "outputs": [
                {
                    "data": {
                        "text/plain": "['letter.joblib']"
                    },
                    "execution_count": 17,
                    "metadata": {},
                    "output_type": "execute_result"
                }
            ],
            "source": [
                "# Save the model to file\n",
                "joblib.dump(model, 'letter.joblib')\n",
                ""
            ]
        },
        {
            "attachments": {},
            "cell_type": "markdown",
            "metadata": {},
            "source": [
                "5.b. Import the model and make predictions"
            ]
        },
        {
            "cell_type": "code",
            "execution_count": 18,
            "metadata": {},
            "outputs": [
                {
                    "data": {
                        "text/plain": "array(['Y', 'Q', 'K', ..., 'R', 'T', 'D'], dtype=object)"
                    },
                    "execution_count": 18,
                    "metadata": {},
                    "output_type": "execute_result"
                }
            ],
            "source": [
                "# Load saved model. Make sure that you have run the previous\n",
                "# section at least once, and that the file exists.\n",
                "\n",
                "model = joblib.load('letter.joblib')\n",
                "predictions = model.predict(X_test)\n",
                "predictions"
            ]
        },
        {
            "attachments": {},
            "cell_type": "markdown",
            "metadata": {},
            "source": [
                "6. (Optional) Visualize decision trees"
            ]
        },
        {
            "cell_type": "code",
            "execution_count": 1,
            "metadata": {},
            "outputs": [
                {
                    "ename": "NameError",
                    "evalue": "name 'tree' is not defined",
                    "output_type": "error",
                    "traceback": [
                        "\u001b[0;31m---------------------------------------------------------------------------\u001b[0m",
                        "\u001b[0;31mNameError\u001b[0m                                 Traceback (most recent call last)",
                        "\u001b[0;32m/tmp/ipykernel_95/2967452815.py\u001b[0m in \u001b[0;36m\u003cmodule\u003e\u001b[0;34m\u001b[0m\n\u001b[0;32m----\u003e 1\u001b[0;31m tree.export_graphviz(model, out_file = 'letter.dot',\n\u001b[0m\u001b[1;32m      2\u001b[0m                     \u001b[0mfeature_names\u001b[0m \u001b[0;34m=\u001b[0m \u001b[0mX\u001b[0m\u001b[0;34m.\u001b[0m\u001b[0mcolumns\u001b[0m\u001b[0;34m,\u001b[0m\u001b[0;34m\u001b[0m\u001b[0;34m\u001b[0m\u001b[0m\n\u001b[1;32m      3\u001b[0m                     \u001b[0mclass_names\u001b[0m \u001b[0;34m=\u001b[0m \u001b[0mstr\u001b[0m\u001b[0;34m(\u001b[0m\u001b[0msorted\u001b[0m\u001b[0;34m(\u001b[0m\u001b[0my\u001b[0m\u001b[0;34m.\u001b[0m\u001b[0munique\u001b[0m\u001b[0;34m(\u001b[0m\u001b[0;34m)\u001b[0m\u001b[0;34m)\u001b[0m\u001b[0;34m)\u001b[0m\u001b[0;34m,\u001b[0m\u001b[0;34m\u001b[0m\u001b[0;34m\u001b[0m\u001b[0m\n\u001b[1;32m      4\u001b[0m                     \u001b[0mlabel\u001b[0m \u001b[0;34m=\u001b[0m \u001b[0;34m'all'\u001b[0m\u001b[0;34m,\u001b[0m\u001b[0;34m\u001b[0m\u001b[0;34m\u001b[0m\u001b[0m\n\u001b[1;32m      5\u001b[0m                     \u001b[0mrounded\u001b[0m \u001b[0;34m=\u001b[0m \u001b[0;32mTrue\u001b[0m\u001b[0;34m,\u001b[0m\u001b[0;34m\u001b[0m\u001b[0;34m\u001b[0m\u001b[0m\n",
                        "\u001b[0;31mNameError\u001b[0m: name 'tree' is not defined"
                    ]
                }
            ],
            "source": [
                "tree.export_graphviz(model, out_file = 'letter.dot',\n",
                "                    feature_names = X.columns, \n",
                "                    class_names = str(sorted(y.unique())), \n",
                "                    label = 'all',\n",
                "                    rounded = True, \n",
                "                    filled = True)\n",
                "\n",
                "#Download the file music-recommender.dot and open it in VS Code.\n",
                ""
            ]
        }
    ]
}
